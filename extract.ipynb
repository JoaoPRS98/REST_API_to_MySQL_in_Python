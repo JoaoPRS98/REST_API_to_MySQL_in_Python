{
 "cells": [
  {
   "cell_type": "code",
   "execution_count": null,
   "id": "2cfa5a55",
   "metadata": {},
   "outputs": [],
   "source": [
    "#imports\n",
    "import json\n",
    "import requests"
   ]
  },
  {
   "cell_type": "code",
   "execution_count": null,
   "id": "d39c1994",
   "metadata": {},
   "outputs": [
    {
     "name": "stdout",
     "output_type": "stream",
     "text": [
      "Data extracted successfully!\n"
     ]
    }
   ],
   "source": [
    "def extract():\n",
    "    #getting data of amazon data from rapidapi\n",
    "    url = \"https://real-time-amazon-data.p.rapidapi.com/products-by-category\"\n",
    "\n",
    "    #setting key and host in headers\n",
    "    headers = {\n",
    "        \"X-RapidAPI-Key\": \"8c54ca9e46msh8eefe6b139cd3b9p1a8b28jsna71252a67483\",\n",
    "        \"X-RapidAPI-Host\": \"real-time-amazon-data.p.rapidapi.com\"\n",
    "    }\n",
    "\n",
    "    #getting the category books\n",
    "    params = {\"category_id\":\"283155\"}\n",
    "\n",
    "    response = requests.get(url, headers=headers, params=params)\n",
    "    json_data = response.json()\n",
    "\n",
    "    #checking if the response is successful\n",
    "    if response.status_code == 200:\n",
    "        print(\"Data extracted successfully!\")\n",
    "    else:\n",
    "        print(f\"Failed to extract data. Status code: {response.status_code}\")\n",
    "    return json_data\n",
    "\n",
    "extract()"
   ]
  }
 ],
 "metadata": {
  "kernelspec": {
   "display_name": "base",
   "language": "python",
   "name": "python3"
  },
  "language_info": {
   "codemirror_mode": {
    "name": "ipython",
    "version": 3
   },
   "file_extension": ".py",
   "mimetype": "text/x-python",
   "name": "python",
   "nbconvert_exporter": "python",
   "pygments_lexer": "ipython3",
   "version": "3.10.9"
  }
 },
 "nbformat": 4,
 "nbformat_minor": 5
}
